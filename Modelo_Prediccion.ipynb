{
 "cells": [
  {
   "cell_type": "code",
   "id": "initial_id",
   "metadata": {
    "collapsed": true,
    "ExecuteTime": {
     "end_time": "2024-06-28T03:15:54.167785Z",
     "start_time": "2024-06-28T03:15:51.061328Z"
    }
   },
   "source": [
    "import pandas as pd\n",
    "import pickle\n",
    "from scipy.stats import poisson"
   ],
   "outputs": [],
   "execution_count": 1
  },
  {
   "metadata": {
    "ExecuteTime": {
     "end_time": "2024-06-28T03:15:57.799927Z",
     "start_time": "2024-06-28T03:15:57.772551Z"
    }
   },
   "cell_type": "code",
   "source": [
    "dict_table = pickle.load(open('dict_table','rb'))\n",
    "df_historical_data = pd.read_csv('clean_america_worldcup_matches.csv')\n",
    "df_fixture = pd.read_csv('clean_fifa_worldcup_fixture.csv')"
   ],
   "id": "1ad2f4e503ed61e3",
   "outputs": [],
   "execution_count": 2
  },
  {
   "metadata": {
    "ExecuteTime": {
     "end_time": "2024-06-28T03:16:10.027653Z",
     "start_time": "2024-06-28T03:16:08.684559Z"
    }
   },
   "cell_type": "code",
   "source": [
    "df_home = df_historical_data[['Home', 'HomeGoals', 'AwayGoals']]\n",
    "df_away = df_historical_data[['Away', 'HomeGoals', 'AwayGoals']]\n",
    "\n",
    "df_home = df_home.rename(columns={'Home':'Team', 'HomeGoals': 'GoalsScored', 'AwayGoals': 'GoalsConceded'})\n",
    "df_away = df_away.rename(columns={'Away':'Team', 'HomeGoals': 'GoalsConceded', 'AwayGoals': 'GoalsScored'})\n",
    "\n",
    "df_team_strength = pd.concat([df_home, df_away], ignore_index=True).groupby(['Team']).mean()\n",
    "df_team_strength"
   ],
   "id": "79daead4c3e625da",
   "outputs": [
    {
     "ename": "KeyError",
     "evalue": "\"['HomeTeam'] not in index\"",
     "output_type": "error",
     "traceback": [
      "\u001B[1;31m---------------------------------------------------------------------------\u001B[0m",
      "\u001B[1;31mKeyError\u001B[0m                                  Traceback (most recent call last)",
      "Cell \u001B[1;32mIn[3], line 1\u001B[0m\n\u001B[1;32m----> 1\u001B[0m df_home \u001B[38;5;241m=\u001B[39m \u001B[43mdf_historical_data\u001B[49m\u001B[43m[\u001B[49m\u001B[43m[\u001B[49m\u001B[38;5;124;43m'\u001B[39;49m\u001B[38;5;124;43mHomeTeam\u001B[39;49m\u001B[38;5;124;43m'\u001B[39;49m\u001B[43m,\u001B[49m\u001B[43m \u001B[49m\u001B[38;5;124;43m'\u001B[39;49m\u001B[38;5;124;43mHomeGoals\u001B[39;49m\u001B[38;5;124;43m'\u001B[39;49m\u001B[43m,\u001B[49m\u001B[43m \u001B[49m\u001B[38;5;124;43m'\u001B[39;49m\u001B[38;5;124;43mAwayGoals\u001B[39;49m\u001B[38;5;124;43m'\u001B[39;49m\u001B[43m]\u001B[49m\u001B[43m]\u001B[49m\n\u001B[0;32m      2\u001B[0m df_away \u001B[38;5;241m=\u001B[39m df_historical_data[[\u001B[38;5;124m'\u001B[39m\u001B[38;5;124mAwayTeam\u001B[39m\u001B[38;5;124m'\u001B[39m, \u001B[38;5;124m'\u001B[39m\u001B[38;5;124mHomeGoals\u001B[39m\u001B[38;5;124m'\u001B[39m, \u001B[38;5;124m'\u001B[39m\u001B[38;5;124mAwayGoals\u001B[39m\u001B[38;5;124m'\u001B[39m]]\n\u001B[0;32m      4\u001B[0m df_home \u001B[38;5;241m=\u001B[39m df_home\u001B[38;5;241m.\u001B[39mrename(columns\u001B[38;5;241m=\u001B[39m{\u001B[38;5;124m'\u001B[39m\u001B[38;5;124mHomeTeam\u001B[39m\u001B[38;5;124m'\u001B[39m:\u001B[38;5;124m'\u001B[39m\u001B[38;5;124mTeam\u001B[39m\u001B[38;5;124m'\u001B[39m, \u001B[38;5;124m'\u001B[39m\u001B[38;5;124mHomeGoals\u001B[39m\u001B[38;5;124m'\u001B[39m: \u001B[38;5;124m'\u001B[39m\u001B[38;5;124mGoalsScored\u001B[39m\u001B[38;5;124m'\u001B[39m, \u001B[38;5;124m'\u001B[39m\u001B[38;5;124mAwayGoals\u001B[39m\u001B[38;5;124m'\u001B[39m: \u001B[38;5;124m'\u001B[39m\u001B[38;5;124mGoalsConceded\u001B[39m\u001B[38;5;124m'\u001B[39m})\n",
      "File \u001B[1;32m~\\PycharmProjects\\pythonProject1\\.venv\\Lib\\site-packages\\pandas\\core\\frame.py:4108\u001B[0m, in \u001B[0;36mDataFrame.__getitem__\u001B[1;34m(self, key)\u001B[0m\n\u001B[0;32m   4106\u001B[0m     \u001B[38;5;28;01mif\u001B[39;00m is_iterator(key):\n\u001B[0;32m   4107\u001B[0m         key \u001B[38;5;241m=\u001B[39m \u001B[38;5;28mlist\u001B[39m(key)\n\u001B[1;32m-> 4108\u001B[0m     indexer \u001B[38;5;241m=\u001B[39m \u001B[38;5;28;43mself\u001B[39;49m\u001B[38;5;241;43m.\u001B[39;49m\u001B[43mcolumns\u001B[49m\u001B[38;5;241;43m.\u001B[39;49m\u001B[43m_get_indexer_strict\u001B[49m\u001B[43m(\u001B[49m\u001B[43mkey\u001B[49m\u001B[43m,\u001B[49m\u001B[43m \u001B[49m\u001B[38;5;124;43m\"\u001B[39;49m\u001B[38;5;124;43mcolumns\u001B[39;49m\u001B[38;5;124;43m\"\u001B[39;49m\u001B[43m)\u001B[49m[\u001B[38;5;241m1\u001B[39m]\n\u001B[0;32m   4110\u001B[0m \u001B[38;5;66;03m# take() does not accept boolean indexers\u001B[39;00m\n\u001B[0;32m   4111\u001B[0m \u001B[38;5;28;01mif\u001B[39;00m \u001B[38;5;28mgetattr\u001B[39m(indexer, \u001B[38;5;124m\"\u001B[39m\u001B[38;5;124mdtype\u001B[39m\u001B[38;5;124m\"\u001B[39m, \u001B[38;5;28;01mNone\u001B[39;00m) \u001B[38;5;241m==\u001B[39m \u001B[38;5;28mbool\u001B[39m:\n",
      "File \u001B[1;32m~\\PycharmProjects\\pythonProject1\\.venv\\Lib\\site-packages\\pandas\\core\\indexes\\base.py:6200\u001B[0m, in \u001B[0;36mIndex._get_indexer_strict\u001B[1;34m(self, key, axis_name)\u001B[0m\n\u001B[0;32m   6197\u001B[0m \u001B[38;5;28;01melse\u001B[39;00m:\n\u001B[0;32m   6198\u001B[0m     keyarr, indexer, new_indexer \u001B[38;5;241m=\u001B[39m \u001B[38;5;28mself\u001B[39m\u001B[38;5;241m.\u001B[39m_reindex_non_unique(keyarr)\n\u001B[1;32m-> 6200\u001B[0m \u001B[38;5;28;43mself\u001B[39;49m\u001B[38;5;241;43m.\u001B[39;49m\u001B[43m_raise_if_missing\u001B[49m\u001B[43m(\u001B[49m\u001B[43mkeyarr\u001B[49m\u001B[43m,\u001B[49m\u001B[43m \u001B[49m\u001B[43mindexer\u001B[49m\u001B[43m,\u001B[49m\u001B[43m \u001B[49m\u001B[43maxis_name\u001B[49m\u001B[43m)\u001B[49m\n\u001B[0;32m   6202\u001B[0m keyarr \u001B[38;5;241m=\u001B[39m \u001B[38;5;28mself\u001B[39m\u001B[38;5;241m.\u001B[39mtake(indexer)\n\u001B[0;32m   6203\u001B[0m \u001B[38;5;28;01mif\u001B[39;00m \u001B[38;5;28misinstance\u001B[39m(key, Index):\n\u001B[0;32m   6204\u001B[0m     \u001B[38;5;66;03m# GH 42790 - Preserve name from an Index\u001B[39;00m\n",
      "File \u001B[1;32m~\\PycharmProjects\\pythonProject1\\.venv\\Lib\\site-packages\\pandas\\core\\indexes\\base.py:6252\u001B[0m, in \u001B[0;36mIndex._raise_if_missing\u001B[1;34m(self, key, indexer, axis_name)\u001B[0m\n\u001B[0;32m   6249\u001B[0m     \u001B[38;5;28;01mraise\u001B[39;00m \u001B[38;5;167;01mKeyError\u001B[39;00m(\u001B[38;5;124mf\u001B[39m\u001B[38;5;124m\"\u001B[39m\u001B[38;5;124mNone of [\u001B[39m\u001B[38;5;132;01m{\u001B[39;00mkey\u001B[38;5;132;01m}\u001B[39;00m\u001B[38;5;124m] are in the [\u001B[39m\u001B[38;5;132;01m{\u001B[39;00maxis_name\u001B[38;5;132;01m}\u001B[39;00m\u001B[38;5;124m]\u001B[39m\u001B[38;5;124m\"\u001B[39m)\n\u001B[0;32m   6251\u001B[0m not_found \u001B[38;5;241m=\u001B[39m \u001B[38;5;28mlist\u001B[39m(ensure_index(key)[missing_mask\u001B[38;5;241m.\u001B[39mnonzero()[\u001B[38;5;241m0\u001B[39m]]\u001B[38;5;241m.\u001B[39munique())\n\u001B[1;32m-> 6252\u001B[0m \u001B[38;5;28;01mraise\u001B[39;00m \u001B[38;5;167;01mKeyError\u001B[39;00m(\u001B[38;5;124mf\u001B[39m\u001B[38;5;124m\"\u001B[39m\u001B[38;5;132;01m{\u001B[39;00mnot_found\u001B[38;5;132;01m}\u001B[39;00m\u001B[38;5;124m not in index\u001B[39m\u001B[38;5;124m\"\u001B[39m)\n",
      "\u001B[1;31mKeyError\u001B[0m: \"['HomeTeam'] not in index\""
     ]
    }
   ],
   "execution_count": 3
  },
  {
   "metadata": {
    "ExecuteTime": {
     "end_time": "2024-06-27T07:29:41.380816Z",
     "start_time": "2024-06-27T07:29:41.375467Z"
    }
   },
   "cell_type": "code",
   "source": [
    "def predict_points(home, away):\n",
    "    if home in df_team_strength.index and away in df_team_strength.index:\n",
    "        # goals_scored * goals_conceded\n",
    "        lamb_home = df_team_strength.at[home,'GoalsScored'] * df_team_strength.at[away,'GoalsConceded']\n",
    "        lamb_away = df_team_strength.at[away,'GoalsScored'] * df_team_strength.at[home,'GoalsConceded']\n",
    "        prob_home, prob_away, prob_draw = 0, 0, 0\n",
    "        for x in range(0,11): #number of goals home team\n",
    "            for y in range(0, 11): #number of goals away team\n",
    "                p = poisson.pmf(x, lamb_home) * poisson.pmf(y, lamb_away)\n",
    "                if x == y:\n",
    "                    prob_draw += p\n",
    "                elif x > y:\n",
    "                    prob_home += p\n",
    "                else:\n",
    "                    prob_away += p\n",
    "        \n",
    "        points_home = 3 * prob_home + prob_draw\n",
    "        points_away = 3 * prob_away + prob_draw\n",
    "        return (points_home, points_away)\n",
    "    else:\n",
    "        return (0, 0)"
   ],
   "id": "20976cc981329315",
   "outputs": [],
   "execution_count": 88
  },
  {
   "metadata": {
    "ExecuteTime": {
     "end_time": "2024-06-27T07:29:43.533804Z",
     "start_time": "2024-06-27T07:29:43.529986Z"
    }
   },
   "cell_type": "code",
   "source": "print(df_team_strength.index)\n",
   "id": "aedc50f2b5c3d7c2",
   "outputs": [
    {
     "name": "stdout",
     "output_type": "stream",
     "text": [
      "Index([' Argentina', ' Bolivia', ' Brazil', ' Chile', ' Colombia',\n",
      "       ' Costa Rica', ' Ecuador', ' Haiti', ' Honduras', ' Jamaica', ' Japan',\n",
      "       ' Mexico', ' Panama', ' Paraguay', ' Peru', ' Qatar', ' United States',\n",
      "       ' Uruguay', ' Venezuela', 'Argentina ', 'Argentina ', 'Bolivia ',\n",
      "       'Bolivia ', 'Brazil ', 'Brazil ', 'Chile ', 'Chile ', 'Colombia ',\n",
      "       'Colombia ', 'Costa Rica ', 'Costa Rica ', 'Ecuador ', 'Ecuador ',\n",
      "       'Haiti ', 'Haiti ', 'Honduras ', 'Honduras ', 'Jamaica ', 'Jamaica ',\n",
      "       'Japan ', 'Japan ', 'Mexico ', 'Mexico ', 'Panama ', 'Panama ',\n",
      "       'Paraguay ', 'Paraguay ', 'Peru ', 'Peru ', 'Qatar ', 'Qatar ',\n",
      "       'United States ', 'United States ', 'Uruguay ', 'Uruguay ',\n",
      "       'Venezuela ', 'Venezuela ', ' Argentina', ' Bolivia', ' Brazil',\n",
      "       ' Chile', ' Colombia', ' Costa Rica', ' Ecuador', ' Haiti', ' Honduras',\n",
      "       ' Jamaica', ' Japan', ' Mexico', ' Panama', ' Paraguay', ' Peru',\n",
      "       ' Qatar', ' United States', ' Uruguay', ' Venezuela'],\n",
      "      dtype='object', name='Team')\n"
     ]
    }
   ],
   "execution_count": 89
  },
  {
   "metadata": {
    "ExecuteTime": {
     "end_time": "2024-06-27T07:29:48.143382Z",
     "start_time": "2024-06-27T07:29:48.115783Z"
    }
   },
   "cell_type": "code",
   "source": [
    "points_home, points_away = predict_points(' Venezuela', ' Colombia')\n",
    "print((float(points_home), float(points_away)))"
   ],
   "id": "ee2d79cc3c3ccb0a",
   "outputs": [
    {
     "name": "stdout",
     "output_type": "stream",
     "text": [
      "(0.5365175092651457, 2.271008404956709)\n"
     ]
    }
   ],
   "execution_count": 90
  },
  {
   "metadata": {
    "ExecuteTime": {
     "end_time": "2024-06-27T07:50:01.199094Z",
     "start_time": "2024-06-27T07:50:01.194166Z"
    }
   },
   "cell_type": "code",
   "source": [
    "df_fixture_group_all = df_fixture[:32].copy()\n",
    "df_fixture_group_23 = df_fixture[:24].copy()\n",
    "df_fixture_knockout = df_fixture[24:28].copy()\n",
    "df_fixture_Final = df_fixture[28:30].copy()\n",
    "df_fixture_loser_Match = df_fixture[30:31].copy()\n"
   ],
   "id": "f343d6a60de19768",
   "outputs": [],
   "execution_count": 135
  },
  {
   "metadata": {
    "ExecuteTime": {
     "end_time": "2024-06-27T07:50:14.068540Z",
     "start_time": "2024-06-27T07:50:14.057490Z"
    }
   },
   "cell_type": "code",
   "source": "df_fixture_group_all",
   "id": "e0a778c662bcc6e4",
   "outputs": [
    {
     "data": {
      "text/plain": [
       "               Home               Away     Score  year\n",
       "0         Argentina             Canada   Match 1  2024\n",
       "1              Peru              Chile   Match 2  2024\n",
       "2              Peru             Canada  Match 10  2024\n",
       "3             Chile          Argentina   Match 9  2024\n",
       "4         Argentina               Peru  Match 17  2024\n",
       "5            Canada              Chile  Match 18  2024\n",
       "6           Ecuador          Venezuela   Match 4  2024\n",
       "7            Mexico            Jamaica   Match 3  2024\n",
       "8           Ecuador            Jamaica  Match 12  2024\n",
       "9         Venezuela             Mexico  Match 11  2024\n",
       "10           Mexico            Ecuador  Match 19  2024\n",
       "11          Jamaica          Venezuela  Match 20  2024\n",
       "12    United States            Bolivia   Match 5  2024\n",
       "13          Uruguay             Panama   Match 6  2024\n",
       "14           Panama      United States  Match 13  2024\n",
       "15          Uruguay            Bolivia  Match 14  2024\n",
       "16    United States            Uruguay  Match 21  2024\n",
       "17          Bolivia             Panama  Match 22  2024\n",
       "18         Colombia           Paraguay   Match 8  2024\n",
       "19           Brazil         Costa Rica   Match 7  2024\n",
       "20         Colombia         Costa Rica  Match 16  2024\n",
       "21         Paraguay             Brazil  Match 15  2024\n",
       "22           Brazil           Colombia  Match 23  2024\n",
       "23       Costa Rica           Paraguay  Match 24  2024\n",
       "24   Winner Group A  Runner-up Group B  Match 25  2024\n",
       "25   Winner Group B  Runner-up Group A  Match 26  2024\n",
       "26   Winner Group C  Runner-up Group D  Match 27  2024\n",
       "27   Winner Group D  Runner-up Group C  Match 28  2024\n",
       "28  Winner Match 25    Winner Match 26  Match 29  2024\n",
       "29  Winner Match 27    Winner Match 28  Match 30  2024\n",
       "30   Loser Match 29     Loser Match 30  Match 31  2024\n",
       "31  Winner Match 29    Winner Match 30  Match 32  2024"
      ],
      "text/html": [
       "<div>\n",
       "<style scoped>\n",
       "    .dataframe tbody tr th:only-of-type {\n",
       "        vertical-align: middle;\n",
       "    }\n",
       "\n",
       "    .dataframe tbody tr th {\n",
       "        vertical-align: top;\n",
       "    }\n",
       "\n",
       "    .dataframe thead th {\n",
       "        text-align: right;\n",
       "    }\n",
       "</style>\n",
       "<table border=\"1\" class=\"dataframe\">\n",
       "  <thead>\n",
       "    <tr style=\"text-align: right;\">\n",
       "      <th></th>\n",
       "      <th>Home</th>\n",
       "      <th>Away</th>\n",
       "      <th>Score</th>\n",
       "      <th>year</th>\n",
       "    </tr>\n",
       "  </thead>\n",
       "  <tbody>\n",
       "    <tr>\n",
       "      <th>0</th>\n",
       "      <td>Argentina</td>\n",
       "      <td>Canada</td>\n",
       "      <td>Match 1</td>\n",
       "      <td>2024</td>\n",
       "    </tr>\n",
       "    <tr>\n",
       "      <th>1</th>\n",
       "      <td>Peru</td>\n",
       "      <td>Chile</td>\n",
       "      <td>Match 2</td>\n",
       "      <td>2024</td>\n",
       "    </tr>\n",
       "    <tr>\n",
       "      <th>2</th>\n",
       "      <td>Peru</td>\n",
       "      <td>Canada</td>\n",
       "      <td>Match 10</td>\n",
       "      <td>2024</td>\n",
       "    </tr>\n",
       "    <tr>\n",
       "      <th>3</th>\n",
       "      <td>Chile</td>\n",
       "      <td>Argentina</td>\n",
       "      <td>Match 9</td>\n",
       "      <td>2024</td>\n",
       "    </tr>\n",
       "    <tr>\n",
       "      <th>4</th>\n",
       "      <td>Argentina</td>\n",
       "      <td>Peru</td>\n",
       "      <td>Match 17</td>\n",
       "      <td>2024</td>\n",
       "    </tr>\n",
       "    <tr>\n",
       "      <th>5</th>\n",
       "      <td>Canada</td>\n",
       "      <td>Chile</td>\n",
       "      <td>Match 18</td>\n",
       "      <td>2024</td>\n",
       "    </tr>\n",
       "    <tr>\n",
       "      <th>6</th>\n",
       "      <td>Ecuador</td>\n",
       "      <td>Venezuela</td>\n",
       "      <td>Match 4</td>\n",
       "      <td>2024</td>\n",
       "    </tr>\n",
       "    <tr>\n",
       "      <th>7</th>\n",
       "      <td>Mexico</td>\n",
       "      <td>Jamaica</td>\n",
       "      <td>Match 3</td>\n",
       "      <td>2024</td>\n",
       "    </tr>\n",
       "    <tr>\n",
       "      <th>8</th>\n",
       "      <td>Ecuador</td>\n",
       "      <td>Jamaica</td>\n",
       "      <td>Match 12</td>\n",
       "      <td>2024</td>\n",
       "    </tr>\n",
       "    <tr>\n",
       "      <th>9</th>\n",
       "      <td>Venezuela</td>\n",
       "      <td>Mexico</td>\n",
       "      <td>Match 11</td>\n",
       "      <td>2024</td>\n",
       "    </tr>\n",
       "    <tr>\n",
       "      <th>10</th>\n",
       "      <td>Mexico</td>\n",
       "      <td>Ecuador</td>\n",
       "      <td>Match 19</td>\n",
       "      <td>2024</td>\n",
       "    </tr>\n",
       "    <tr>\n",
       "      <th>11</th>\n",
       "      <td>Jamaica</td>\n",
       "      <td>Venezuela</td>\n",
       "      <td>Match 20</td>\n",
       "      <td>2024</td>\n",
       "    </tr>\n",
       "    <tr>\n",
       "      <th>12</th>\n",
       "      <td>United States</td>\n",
       "      <td>Bolivia</td>\n",
       "      <td>Match 5</td>\n",
       "      <td>2024</td>\n",
       "    </tr>\n",
       "    <tr>\n",
       "      <th>13</th>\n",
       "      <td>Uruguay</td>\n",
       "      <td>Panama</td>\n",
       "      <td>Match 6</td>\n",
       "      <td>2024</td>\n",
       "    </tr>\n",
       "    <tr>\n",
       "      <th>14</th>\n",
       "      <td>Panama</td>\n",
       "      <td>United States</td>\n",
       "      <td>Match 13</td>\n",
       "      <td>2024</td>\n",
       "    </tr>\n",
       "    <tr>\n",
       "      <th>15</th>\n",
       "      <td>Uruguay</td>\n",
       "      <td>Bolivia</td>\n",
       "      <td>Match 14</td>\n",
       "      <td>2024</td>\n",
       "    </tr>\n",
       "    <tr>\n",
       "      <th>16</th>\n",
       "      <td>United States</td>\n",
       "      <td>Uruguay</td>\n",
       "      <td>Match 21</td>\n",
       "      <td>2024</td>\n",
       "    </tr>\n",
       "    <tr>\n",
       "      <th>17</th>\n",
       "      <td>Bolivia</td>\n",
       "      <td>Panama</td>\n",
       "      <td>Match 22</td>\n",
       "      <td>2024</td>\n",
       "    </tr>\n",
       "    <tr>\n",
       "      <th>18</th>\n",
       "      <td>Colombia</td>\n",
       "      <td>Paraguay</td>\n",
       "      <td>Match 8</td>\n",
       "      <td>2024</td>\n",
       "    </tr>\n",
       "    <tr>\n",
       "      <th>19</th>\n",
       "      <td>Brazil</td>\n",
       "      <td>Costa Rica</td>\n",
       "      <td>Match 7</td>\n",
       "      <td>2024</td>\n",
       "    </tr>\n",
       "    <tr>\n",
       "      <th>20</th>\n",
       "      <td>Colombia</td>\n",
       "      <td>Costa Rica</td>\n",
       "      <td>Match 16</td>\n",
       "      <td>2024</td>\n",
       "    </tr>\n",
       "    <tr>\n",
       "      <th>21</th>\n",
       "      <td>Paraguay</td>\n",
       "      <td>Brazil</td>\n",
       "      <td>Match 15</td>\n",
       "      <td>2024</td>\n",
       "    </tr>\n",
       "    <tr>\n",
       "      <th>22</th>\n",
       "      <td>Brazil</td>\n",
       "      <td>Colombia</td>\n",
       "      <td>Match 23</td>\n",
       "      <td>2024</td>\n",
       "    </tr>\n",
       "    <tr>\n",
       "      <th>23</th>\n",
       "      <td>Costa Rica</td>\n",
       "      <td>Paraguay</td>\n",
       "      <td>Match 24</td>\n",
       "      <td>2024</td>\n",
       "    </tr>\n",
       "    <tr>\n",
       "      <th>24</th>\n",
       "      <td>Winner Group A</td>\n",
       "      <td>Runner-up Group B</td>\n",
       "      <td>Match 25</td>\n",
       "      <td>2024</td>\n",
       "    </tr>\n",
       "    <tr>\n",
       "      <th>25</th>\n",
       "      <td>Winner Group B</td>\n",
       "      <td>Runner-up Group A</td>\n",
       "      <td>Match 26</td>\n",
       "      <td>2024</td>\n",
       "    </tr>\n",
       "    <tr>\n",
       "      <th>26</th>\n",
       "      <td>Winner Group C</td>\n",
       "      <td>Runner-up Group D</td>\n",
       "      <td>Match 27</td>\n",
       "      <td>2024</td>\n",
       "    </tr>\n",
       "    <tr>\n",
       "      <th>27</th>\n",
       "      <td>Winner Group D</td>\n",
       "      <td>Runner-up Group C</td>\n",
       "      <td>Match 28</td>\n",
       "      <td>2024</td>\n",
       "    </tr>\n",
       "    <tr>\n",
       "      <th>28</th>\n",
       "      <td>Winner Match 25</td>\n",
       "      <td>Winner Match 26</td>\n",
       "      <td>Match 29</td>\n",
       "      <td>2024</td>\n",
       "    </tr>\n",
       "    <tr>\n",
       "      <th>29</th>\n",
       "      <td>Winner Match 27</td>\n",
       "      <td>Winner Match 28</td>\n",
       "      <td>Match 30</td>\n",
       "      <td>2024</td>\n",
       "    </tr>\n",
       "    <tr>\n",
       "      <th>30</th>\n",
       "      <td>Loser Match 29</td>\n",
       "      <td>Loser Match 30</td>\n",
       "      <td>Match 31</td>\n",
       "      <td>2024</td>\n",
       "    </tr>\n",
       "    <tr>\n",
       "      <th>31</th>\n",
       "      <td>Winner Match 29</td>\n",
       "      <td>Winner Match 30</td>\n",
       "      <td>Match 32</td>\n",
       "      <td>2024</td>\n",
       "    </tr>\n",
       "  </tbody>\n",
       "</table>\n",
       "</div>"
      ]
     },
     "execution_count": 136,
     "metadata": {},
     "output_type": "execute_result"
    }
   ],
   "execution_count": 136
  },
  {
   "metadata": {
    "ExecuteTime": {
     "end_time": "2024-06-27T08:07:25.597327Z",
     "start_time": "2024-06-27T08:07:25.588626Z"
    }
   },
   "cell_type": "code",
   "source": "dict_table[\"Group A\"]\n",
   "id": "958f025c236c220a",
   "outputs": [
    {
     "data": {
      "text/plain": [
       "        Team  Pts\n",
       "0     Mexico    0\n",
       "1    Ecuador    0\n",
       "2  Venezuela    0\n",
       "3    Jamaica    0"
      ],
      "text/html": [
       "<div>\n",
       "<style scoped>\n",
       "    .dataframe tbody tr th:only-of-type {\n",
       "        vertical-align: middle;\n",
       "    }\n",
       "\n",
       "    .dataframe tbody tr th {\n",
       "        vertical-align: top;\n",
       "    }\n",
       "\n",
       "    .dataframe thead th {\n",
       "        text-align: right;\n",
       "    }\n",
       "</style>\n",
       "<table border=\"1\" class=\"dataframe\">\n",
       "  <thead>\n",
       "    <tr style=\"text-align: right;\">\n",
       "      <th></th>\n",
       "      <th>Team</th>\n",
       "      <th>Pts</th>\n",
       "    </tr>\n",
       "  </thead>\n",
       "  <tbody>\n",
       "    <tr>\n",
       "      <th>0</th>\n",
       "      <td>Mexico</td>\n",
       "      <td>0</td>\n",
       "    </tr>\n",
       "    <tr>\n",
       "      <th>1</th>\n",
       "      <td>Ecuador</td>\n",
       "      <td>0</td>\n",
       "    </tr>\n",
       "    <tr>\n",
       "      <th>2</th>\n",
       "      <td>Venezuela</td>\n",
       "      <td>0</td>\n",
       "    </tr>\n",
       "    <tr>\n",
       "      <th>3</th>\n",
       "      <td>Jamaica</td>\n",
       "      <td>0</td>\n",
       "    </tr>\n",
       "  </tbody>\n",
       "</table>\n",
       "</div>"
      ]
     },
     "execution_count": 145,
     "metadata": {},
     "output_type": "execute_result"
    }
   ],
   "execution_count": 145
  },
  {
   "metadata": {
    "ExecuteTime": {
     "end_time": "2024-06-27T08:09:54.043018Z",
     "start_time": "2024-06-27T08:09:54.036791Z"
    }
   },
   "cell_type": "code",
   "source": [
    "for group in dict_table:\n",
    "    print(f\"Processing {group}\")\n",
    "    teams_in_group = dict_table[group]['Team'].values"
   ],
   "id": "65b3665129f88af",
   "outputs": [
    {
     "ename": "SyntaxError",
     "evalue": "invalid syntax (3264834941.py, line 6)",
     "output_type": "error",
     "traceback": [
      "\u001B[1;36m  Cell \u001B[1;32mIn[148], line 6\u001B[1;36m\u001B[0m\n\u001B[1;33m    print(f\"{group_name} not found in dict_table\")lues\u001B[0m\n\u001B[1;37m                                                  ^\u001B[0m\n\u001B[1;31mSyntaxError\u001B[0m\u001B[1;31m:\u001B[0m invalid syntax\n"
     ]
    }
   ],
   "execution_count": 148
  }
 ],
 "metadata": {
  "kernelspec": {
   "display_name": "Python 3",
   "language": "python",
   "name": "python3"
  },
  "language_info": {
   "codemirror_mode": {
    "name": "ipython",
    "version": 2
   },
   "file_extension": ".py",
   "mimetype": "text/x-python",
   "name": "python",
   "nbconvert_exporter": "python",
   "pygments_lexer": "ipython2",
   "version": "2.7.6"
  }
 },
 "nbformat": 4,
 "nbformat_minor": 5
}
