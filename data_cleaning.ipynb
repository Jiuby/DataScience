{
 "cells": [
  {
   "cell_type": "code",
   "id": "initial_id",
   "metadata": {
    "collapsed": true,
    "ExecuteTime": {
     "end_time": "2024-06-27T07:05:22.149700Z",
     "start_time": "2024-06-27T07:05:22.146369Z"
    }
   },
   "source": "import pandas as pd",
   "outputs": [],
   "execution_count": 194
  },
  {
   "metadata": {
    "ExecuteTime": {
     "end_time": "2024-06-27T07:09:32.028265Z",
     "start_time": "2024-06-27T07:09:32.018791Z"
    }
   },
   "cell_type": "code",
   "source": [
    "df_data_historica = pd.read_csv(\"copaAmerica_historical.csv\")\n",
    "df_2024 = pd.read_csv(\"2024.csv\")\n",
    "df_faltante = pd.read_csv(\"copaAmerica_historical_faltante.csv\")"
   ],
   "id": "b9edd26c6da33a71",
   "outputs": [],
   "execution_count": 212
  },
  {
   "metadata": {},
   "cell_type": "markdown",
   "source": "# Limpieza df_2024",
   "id": "b2afc4ed4879a2ed"
  },
  {
   "metadata": {
    "ExecuteTime": {
     "end_time": "2024-06-27T07:09:34.112709Z",
     "start_time": "2024-06-27T07:09:34.107762Z"
    }
   },
   "cell_type": "code",
   "source": [
    "df_2024['Home'] = df_2024['Home'].str.strip()\n",
    "df_2024['Away'] = df_2024['Away'].str.strip()"
   ],
   "id": "cabc324b192c9f90",
   "outputs": [],
   "execution_count": 213
  },
  {
   "metadata": {},
   "cell_type": "markdown",
   "source": "# Limpieza df_faltante",
   "id": "fdfa77e0855a31bf"
  },
  {
   "metadata": {
    "ExecuteTime": {
     "end_time": "2024-06-27T07:09:35.244103Z",
     "start_time": "2024-06-27T07:09:35.239139Z"
    }
   },
   "cell_type": "code",
   "source": "df_faltante.dropna(inplace=True)",
   "id": "134ece8b15dbb1c3",
   "outputs": [],
   "execution_count": 214
  },
  {
   "metadata": {
    "ExecuteTime": {
     "end_time": "2024-06-27T07:09:35.954074Z",
     "start_time": "2024-06-27T07:09:35.942685Z"
    }
   },
   "cell_type": "code",
   "source": [
    "df_data_historica = pd.concat([df_data_historica, df_faltante], ignore_index=True)\n",
    "df_data_historica.drop_duplicates(inplace=True)\n",
    "df_data_historica"
   ],
   "id": "2ab5dea8a2d6c5b",
   "outputs": [
    {
     "data": {
      "text/plain": [
       "           Home        Away Score  year\n",
       "0    Venezuela       Brazil   0–4  1975\n",
       "1    Venezuela    Argentina   1–5  1975\n",
       "2       Brazil    Argentina   2–1  1975\n",
       "3    Argentina    Venezuela  11–0  1975\n",
       "4       Brazil    Venezuela   6–0  1975\n",
       "..          ...         ...   ...   ...\n",
       "877  Argentina      Ecuador   3–0  2021\n",
       "878     Brazil         Peru   1–0  2021\n",
       "879  Argentina     Colombia   1–1  2021\n",
       "880   Colombia         Peru   3–2  2021\n",
       "881  Argentina       Brazil   1–0  2021\n",
       "\n",
       "[882 rows x 4 columns]"
      ],
      "text/html": [
       "<div>\n",
       "<style scoped>\n",
       "    .dataframe tbody tr th:only-of-type {\n",
       "        vertical-align: middle;\n",
       "    }\n",
       "\n",
       "    .dataframe tbody tr th {\n",
       "        vertical-align: top;\n",
       "    }\n",
       "\n",
       "    .dataframe thead th {\n",
       "        text-align: right;\n",
       "    }\n",
       "</style>\n",
       "<table border=\"1\" class=\"dataframe\">\n",
       "  <thead>\n",
       "    <tr style=\"text-align: right;\">\n",
       "      <th></th>\n",
       "      <th>Home</th>\n",
       "      <th>Away</th>\n",
       "      <th>Score</th>\n",
       "      <th>year</th>\n",
       "    </tr>\n",
       "  </thead>\n",
       "  <tbody>\n",
       "    <tr>\n",
       "      <th>0</th>\n",
       "      <td>Venezuela</td>\n",
       "      <td>Brazil</td>\n",
       "      <td>0–4</td>\n",
       "      <td>1975</td>\n",
       "    </tr>\n",
       "    <tr>\n",
       "      <th>1</th>\n",
       "      <td>Venezuela</td>\n",
       "      <td>Argentina</td>\n",
       "      <td>1–5</td>\n",
       "      <td>1975</td>\n",
       "    </tr>\n",
       "    <tr>\n",
       "      <th>2</th>\n",
       "      <td>Brazil</td>\n",
       "      <td>Argentina</td>\n",
       "      <td>2–1</td>\n",
       "      <td>1975</td>\n",
       "    </tr>\n",
       "    <tr>\n",
       "      <th>3</th>\n",
       "      <td>Argentina</td>\n",
       "      <td>Venezuela</td>\n",
       "      <td>11–0</td>\n",
       "      <td>1975</td>\n",
       "    </tr>\n",
       "    <tr>\n",
       "      <th>4</th>\n",
       "      <td>Brazil</td>\n",
       "      <td>Venezuela</td>\n",
       "      <td>6–0</td>\n",
       "      <td>1975</td>\n",
       "    </tr>\n",
       "    <tr>\n",
       "      <th>...</th>\n",
       "      <td>...</td>\n",
       "      <td>...</td>\n",
       "      <td>...</td>\n",
       "      <td>...</td>\n",
       "    </tr>\n",
       "    <tr>\n",
       "      <th>877</th>\n",
       "      <td>Argentina</td>\n",
       "      <td>Ecuador</td>\n",
       "      <td>3–0</td>\n",
       "      <td>2021</td>\n",
       "    </tr>\n",
       "    <tr>\n",
       "      <th>878</th>\n",
       "      <td>Brazil</td>\n",
       "      <td>Peru</td>\n",
       "      <td>1–0</td>\n",
       "      <td>2021</td>\n",
       "    </tr>\n",
       "    <tr>\n",
       "      <th>879</th>\n",
       "      <td>Argentina</td>\n",
       "      <td>Colombia</td>\n",
       "      <td>1–1</td>\n",
       "      <td>2021</td>\n",
       "    </tr>\n",
       "    <tr>\n",
       "      <th>880</th>\n",
       "      <td>Colombia</td>\n",
       "      <td>Peru</td>\n",
       "      <td>3–2</td>\n",
       "      <td>2021</td>\n",
       "    </tr>\n",
       "    <tr>\n",
       "      <th>881</th>\n",
       "      <td>Argentina</td>\n",
       "      <td>Brazil</td>\n",
       "      <td>1–0</td>\n",
       "      <td>2021</td>\n",
       "    </tr>\n",
       "  </tbody>\n",
       "</table>\n",
       "<p>882 rows × 4 columns</p>\n",
       "</div>"
      ]
     },
     "execution_count": 215,
     "metadata": {},
     "output_type": "execute_result"
    }
   ],
   "execution_count": 215
  },
  {
   "metadata": {},
   "cell_type": "markdown",
   "source": "# Limpieza df_data_historica",
   "id": "1168df24c8eb12b9"
  },
  {
   "metadata": {
    "ExecuteTime": {
     "end_time": "2024-06-27T07:09:43.888649Z",
     "start_time": "2024-06-27T07:09:43.882619Z"
    }
   },
   "cell_type": "code",
   "source": [
    "\n",
    "df_data_historica['Score'] = df_data_historica['Score'].str.replace('–', '-')\n",
    "df_data_historica[\"Score\"] = df_data_historica['Score'].str.replace(r'[^\\d -]', '', regex=True)\n",
    "df_data_historica = df_data_historica.drop(228)\n",
    "df_data_historica = df_data_historica.drop(687)\n"
   ],
   "id": "7ef4eecef118082d",
   "outputs": [],
   "execution_count": 217
  },
  {
   "metadata": {
    "ExecuteTime": {
     "end_time": "2024-06-27T07:09:48.697548Z",
     "start_time": "2024-06-27T07:09:48.689178Z"
    }
   },
   "cell_type": "code",
   "source": "df_data_historica[[\"HomeGoals\", \"AwayGoals\"]] = df_data_historica['Score'].str.split('-', expand=True)",
   "id": "5f4d145488662ac7",
   "outputs": [],
   "execution_count": 219
  },
  {
   "metadata": {
    "ExecuteTime": {
     "end_time": "2024-06-27T07:10:14.667162Z",
     "start_time": "2024-06-27T07:10:14.662008Z"
    }
   },
   "cell_type": "code",
   "source": "df_data_historica.drop(columns=['Score'], axis=1, inplace=True)",
   "id": "f06fb3d7aa2fb316",
   "outputs": [],
   "execution_count": 220
  },
  {
   "metadata": {
    "ExecuteTime": {
     "end_time": "2024-06-27T07:10:16.483236Z",
     "start_time": "2024-06-27T07:10:16.479822Z"
    }
   },
   "cell_type": "code",
   "source": "df_data_historica.rename(columns={\"year\": \"Year\"}, inplace=True)",
   "id": "be2ca4fd9998b048",
   "outputs": [],
   "execution_count": 221
  },
  {
   "metadata": {
    "ExecuteTime": {
     "end_time": "2024-06-27T07:10:17.798773Z",
     "start_time": "2024-06-27T07:10:17.790071Z"
    }
   },
   "cell_type": "code",
   "source": "df_data_historica",
   "id": "cee5f038075e30d7",
   "outputs": [
    {
     "data": {
      "text/plain": [
       "           Home        Away  Year HomeGoals AwayGoals\n",
       "0    Venezuela       Brazil  1975         0         4\n",
       "1    Venezuela    Argentina  1975         1         5\n",
       "2       Brazil    Argentina  1975         2         1\n",
       "3    Argentina    Venezuela  1975        11         0\n",
       "4       Brazil    Venezuela  1975         6         0\n",
       "..          ...         ...   ...       ...       ...\n",
       "877  Argentina      Ecuador  2021         3         0\n",
       "878     Brazil         Peru  2021         1         0\n",
       "879  Argentina     Colombia  2021         1         1\n",
       "880   Colombia         Peru  2021         3         2\n",
       "881  Argentina       Brazil  2021         1         0\n",
       "\n",
       "[880 rows x 5 columns]"
      ],
      "text/html": [
       "<div>\n",
       "<style scoped>\n",
       "    .dataframe tbody tr th:only-of-type {\n",
       "        vertical-align: middle;\n",
       "    }\n",
       "\n",
       "    .dataframe tbody tr th {\n",
       "        vertical-align: top;\n",
       "    }\n",
       "\n",
       "    .dataframe thead th {\n",
       "        text-align: right;\n",
       "    }\n",
       "</style>\n",
       "<table border=\"1\" class=\"dataframe\">\n",
       "  <thead>\n",
       "    <tr style=\"text-align: right;\">\n",
       "      <th></th>\n",
       "      <th>Home</th>\n",
       "      <th>Away</th>\n",
       "      <th>Year</th>\n",
       "      <th>HomeGoals</th>\n",
       "      <th>AwayGoals</th>\n",
       "    </tr>\n",
       "  </thead>\n",
       "  <tbody>\n",
       "    <tr>\n",
       "      <th>0</th>\n",
       "      <td>Venezuela</td>\n",
       "      <td>Brazil</td>\n",
       "      <td>1975</td>\n",
       "      <td>0</td>\n",
       "      <td>4</td>\n",
       "    </tr>\n",
       "    <tr>\n",
       "      <th>1</th>\n",
       "      <td>Venezuela</td>\n",
       "      <td>Argentina</td>\n",
       "      <td>1975</td>\n",
       "      <td>1</td>\n",
       "      <td>5</td>\n",
       "    </tr>\n",
       "    <tr>\n",
       "      <th>2</th>\n",
       "      <td>Brazil</td>\n",
       "      <td>Argentina</td>\n",
       "      <td>1975</td>\n",
       "      <td>2</td>\n",
       "      <td>1</td>\n",
       "    </tr>\n",
       "    <tr>\n",
       "      <th>3</th>\n",
       "      <td>Argentina</td>\n",
       "      <td>Venezuela</td>\n",
       "      <td>1975</td>\n",
       "      <td>11</td>\n",
       "      <td>0</td>\n",
       "    </tr>\n",
       "    <tr>\n",
       "      <th>4</th>\n",
       "      <td>Brazil</td>\n",
       "      <td>Venezuela</td>\n",
       "      <td>1975</td>\n",
       "      <td>6</td>\n",
       "      <td>0</td>\n",
       "    </tr>\n",
       "    <tr>\n",
       "      <th>...</th>\n",
       "      <td>...</td>\n",
       "      <td>...</td>\n",
       "      <td>...</td>\n",
       "      <td>...</td>\n",
       "      <td>...</td>\n",
       "    </tr>\n",
       "    <tr>\n",
       "      <th>877</th>\n",
       "      <td>Argentina</td>\n",
       "      <td>Ecuador</td>\n",
       "      <td>2021</td>\n",
       "      <td>3</td>\n",
       "      <td>0</td>\n",
       "    </tr>\n",
       "    <tr>\n",
       "      <th>878</th>\n",
       "      <td>Brazil</td>\n",
       "      <td>Peru</td>\n",
       "      <td>2021</td>\n",
       "      <td>1</td>\n",
       "      <td>0</td>\n",
       "    </tr>\n",
       "    <tr>\n",
       "      <th>879</th>\n",
       "      <td>Argentina</td>\n",
       "      <td>Colombia</td>\n",
       "      <td>2021</td>\n",
       "      <td>1</td>\n",
       "      <td>1</td>\n",
       "    </tr>\n",
       "    <tr>\n",
       "      <th>880</th>\n",
       "      <td>Colombia</td>\n",
       "      <td>Peru</td>\n",
       "      <td>2021</td>\n",
       "      <td>3</td>\n",
       "      <td>2</td>\n",
       "    </tr>\n",
       "    <tr>\n",
       "      <th>881</th>\n",
       "      <td>Argentina</td>\n",
       "      <td>Brazil</td>\n",
       "      <td>2021</td>\n",
       "      <td>1</td>\n",
       "      <td>0</td>\n",
       "    </tr>\n",
       "  </tbody>\n",
       "</table>\n",
       "<p>880 rows × 5 columns</p>\n",
       "</div>"
      ]
     },
     "execution_count": 222,
     "metadata": {},
     "output_type": "execute_result"
    }
   ],
   "execution_count": 222
  },
  {
   "metadata": {
    "ExecuteTime": {
     "end_time": "2024-06-27T07:10:21.287976Z",
     "start_time": "2024-06-27T07:10:21.282352Z"
    }
   },
   "cell_type": "code",
   "source": "df_data_historica.dtypes\n",
   "id": "4aeddcffde06b927",
   "outputs": [
    {
     "data": {
      "text/plain": [
       "Home         object\n",
       "Away         object\n",
       "Year          int64\n",
       "HomeGoals    object\n",
       "AwayGoals    object\n",
       "dtype: object"
      ]
     },
     "execution_count": 223,
     "metadata": {},
     "output_type": "execute_result"
    }
   ],
   "execution_count": 223
  },
  {
   "metadata": {
    "ExecuteTime": {
     "end_time": "2024-06-27T07:10:23.712204Z",
     "start_time": "2024-06-27T07:10:23.707011Z"
    }
   },
   "cell_type": "code",
   "source": "df_data_historica = df_data_historica.astype({\"Year\": int, \"HomeGoals\": int, \"AwayGoals\": int})",
   "id": "64fc93aba17beff1",
   "outputs": [],
   "execution_count": 224
  },
  {
   "metadata": {
    "ExecuteTime": {
     "end_time": "2024-06-27T07:11:24.089726Z",
     "start_time": "2024-06-27T07:11:24.080831Z"
    }
   },
   "cell_type": "code",
   "source": [
    "df_data_historica[\"TotalGoals\"] = df_data_historica['HomeGoals'] + df_data_historica['AwayGoals'] \n",
    "df_data_historica['Home'].str.strip()\n",
    "df_data_historica['Away'].str.strip()\n"
   ],
   "id": "75ca58a51d0ab8fd",
   "outputs": [
    {
     "data": {
      "text/plain": [
       "0         Brazil\n",
       "1      Argentina\n",
       "2      Argentina\n",
       "3      Venezuela\n",
       "4      Venezuela\n",
       "         ...    \n",
       "877      Ecuador\n",
       "878         Peru\n",
       "879     Colombia\n",
       "880         Peru\n",
       "881       Brazil\n",
       "Name: Away, Length: 880, dtype: object"
      ]
     },
     "execution_count": 229,
     "metadata": {},
     "output_type": "execute_result"
    }
   ],
   "execution_count": 229
  },
  {
   "metadata": {
    "ExecuteTime": {
     "end_time": "2024-06-27T07:12:15.345198Z",
     "start_time": "2024-06-27T07:12:15.336015Z"
    }
   },
   "cell_type": "code",
   "source": [
    "df_data_historica.to_csv(\"df_data_historica_clean.csv\", index=False)\n",
    "df_2024.to_csv(\"df_2024_clean.csv\", index=False)"
   ],
   "id": "7b51c5c0e4587197",
   "outputs": [],
   "execution_count": 230
  }
 ],
 "metadata": {
  "kernelspec": {
   "display_name": "Python 3",
   "language": "python",
   "name": "python3"
  },
  "language_info": {
   "codemirror_mode": {
    "name": "ipython",
    "version": 2
   },
   "file_extension": ".py",
   "mimetype": "text/x-python",
   "name": "python",
   "nbconvert_exporter": "python",
   "pygments_lexer": "ipython2",
   "version": "2.7.6"
  }
 },
 "nbformat": 4,
 "nbformat_minor": 5
}
